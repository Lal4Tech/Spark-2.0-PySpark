{
 "cells": [
  {
   "cell_type": "code",
   "execution_count": 1,
   "id": "5505a395-f334-454d-bcef-dbf431916aa3",
   "metadata": {},
   "outputs": [],
   "source": [
    "from pyspark.sql import SparkSession\n",
    "spark = SparkSession.builder.appName('consult_project').getOrCreate()"
   ]
  },
  {
   "cell_type": "code",
   "execution_count": 2,
   "id": "6da0afa9-4f05-4f53-aa75-4a7aaa2b23f8",
   "metadata": {},
   "outputs": [],
   "source": [
    "data = spark.read.csv('dog_food.csv', inferSchema=True, header=True)"
   ]
  },
  {
   "cell_type": "code",
   "execution_count": 3,
   "id": "77109026-6dd5-47a3-a5d5-ae7472e1d0bc",
   "metadata": {},
   "outputs": [
    {
     "name": "stdout",
     "output_type": "stream",
     "text": [
      "root\n",
      " |-- A: integer (nullable = true)\n",
      " |-- B: integer (nullable = true)\n",
      " |-- C: double (nullable = true)\n",
      " |-- D: integer (nullable = true)\n",
      " |-- Spoiled: double (nullable = true)\n",
      "\n"
     ]
    }
   ],
   "source": [
    "data.printSchema()"
   ]
  },
  {
   "cell_type": "code",
   "execution_count": 4,
   "id": "ddb6bf3e-be22-48e0-8d21-32e70718ea0f",
   "metadata": {},
   "outputs": [
    {
     "data": {
      "text/plain": [
       "[Row(A=4, B=2, C=12.0, D=3, Spoiled=1.0)]"
      ]
     },
     "execution_count": 4,
     "metadata": {},
     "output_type": "execute_result"
    }
   ],
   "source": [
    "data.head(1)"
   ]
  },
  {
   "cell_type": "code",
   "execution_count": 5,
   "id": "836b0d4e-5141-41e1-851e-38af3845af0e",
   "metadata": {},
   "outputs": [],
   "source": [
    "from pyspark.ml.feature import VectorAssembler"
   ]
  },
  {
   "cell_type": "code",
   "execution_count": 6,
   "id": "2a1413c2-925b-463a-a947-9f98f1f252dd",
   "metadata": {},
   "outputs": [
    {
     "data": {
      "text/plain": [
       "['A', 'B', 'C', 'D', 'Spoiled']"
      ]
     },
     "execution_count": 6,
     "metadata": {},
     "output_type": "execute_result"
    }
   ],
   "source": [
    "data.columns"
   ]
  },
  {
   "cell_type": "code",
   "execution_count": 7,
   "id": "9b9ea119-71d5-4553-ad12-08affb543068",
   "metadata": {},
   "outputs": [],
   "source": [
    "assembler = VectorAssembler(inputCols=['A', 'B', 'C', 'D'], outputCol='features')"
   ]
  },
  {
   "cell_type": "code",
   "execution_count": 8,
   "id": "3f470606-04b5-4edf-969e-a4594db9d9a0",
   "metadata": {},
   "outputs": [],
   "source": [
    "output = assembler.transform(data)"
   ]
  },
  {
   "cell_type": "code",
   "execution_count": 9,
   "id": "85fabb02-2186-495a-8ece-eddf64d008a5",
   "metadata": {},
   "outputs": [
    {
     "name": "stdout",
     "output_type": "stream",
     "text": [
      "+---+---+----+---+-------+------------------+\n",
      "|  A|  B|   C|  D|Spoiled|          features|\n",
      "+---+---+----+---+-------+------------------+\n",
      "|  4|  2|12.0|  3|    1.0|[4.0,2.0,12.0,3.0]|\n",
      "|  5|  6|12.0|  7|    1.0|[5.0,6.0,12.0,7.0]|\n",
      "|  6|  2|13.0|  6|    1.0|[6.0,2.0,13.0,6.0]|\n",
      "|  4|  2|12.0|  1|    1.0|[4.0,2.0,12.0,1.0]|\n",
      "|  4|  2|12.0|  3|    1.0|[4.0,2.0,12.0,3.0]|\n",
      "+---+---+----+---+-------+------------------+\n",
      "only showing top 5 rows\n",
      "\n"
     ]
    }
   ],
   "source": [
    "output.show(5)"
   ]
  },
  {
   "cell_type": "code",
   "execution_count": 10,
   "id": "5fdfb988-a1ca-46b2-9ba7-6c9aa03c4cfd",
   "metadata": {},
   "outputs": [],
   "source": [
    "from pyspark.ml.classification import RandomForestClassifier"
   ]
  },
  {
   "cell_type": "code",
   "execution_count": 11,
   "id": "7dbb91fa-18d8-4f5b-a6ee-ea1bbc78d0ef",
   "metadata": {},
   "outputs": [],
   "source": [
    "rfc = RandomForestClassifier(featuresCol='features', labelCol='Spoiled')"
   ]
  },
  {
   "cell_type": "code",
   "execution_count": 12,
   "id": "22f0e6b5-e3d0-4949-b02b-6b01e29e139c",
   "metadata": {},
   "outputs": [],
   "source": [
    "final_data = output.select('features', 'Spoiled')"
   ]
  },
  {
   "cell_type": "code",
   "execution_count": 14,
   "id": "ee52a542-a683-480e-9437-a8aa9f70cb68",
   "metadata": {},
   "outputs": [
    {
     "name": "stdout",
     "output_type": "stream",
     "text": [
      "+------------------+-------+\n",
      "|          features|Spoiled|\n",
      "+------------------+-------+\n",
      "|[4.0,2.0,12.0,3.0]|    1.0|\n",
      "|[5.0,6.0,12.0,7.0]|    1.0|\n",
      "|[6.0,2.0,13.0,6.0]|    1.0|\n",
      "|[4.0,2.0,12.0,1.0]|    1.0|\n",
      "|[4.0,2.0,12.0,3.0]|    1.0|\n",
      "+------------------+-------+\n",
      "only showing top 5 rows\n",
      "\n"
     ]
    }
   ],
   "source": [
    "final_data.show(5)"
   ]
  },
  {
   "cell_type": "code",
   "execution_count": 15,
   "id": "38b21789-5c66-4e56-b976-cd50fc1b90f9",
   "metadata": {},
   "outputs": [],
   "source": [
    "model = rfc.fit(final_data)"
   ]
  },
  {
   "cell_type": "code",
   "execution_count": 17,
   "id": "2a057a90-c073-45bb-9800-c3e53f1af9b7",
   "metadata": {},
   "outputs": [
    {
     "data": {
      "text/plain": [
       "[Row(features=DenseVector([4.0, 2.0, 12.0, 3.0]), Spoiled=1.0)]"
      ]
     },
     "execution_count": 17,
     "metadata": {},
     "output_type": "execute_result"
    }
   ],
   "source": [
    "final_data.head(1)"
   ]
  },
  {
   "cell_type": "code",
   "execution_count": 18,
   "id": "7139c956-f12e-4eb5-b99d-29890d29af9d",
   "metadata": {},
   "outputs": [
    {
     "data": {
      "text/plain": [
       "SparseVector(4, {0: 0.0179, 1: 0.0174, 2: 0.9367, 3: 0.028})"
      ]
     },
     "execution_count": 18,
     "metadata": {},
     "output_type": "execute_result"
    }
   ],
   "source": [
    "model.featureImportances"
   ]
  },
  {
   "cell_type": "markdown",
   "id": "896397d9-7a44-437a-a491-7c1c5acb9b95",
   "metadata": {},
   "source": [
    "Feature C is causing more spoilage."
   ]
  },
  {
   "cell_type": "code",
   "execution_count": null,
   "id": "7ef586d3-7925-433f-8039-f832229f2d72",
   "metadata": {},
   "outputs": [],
   "source": []
  }
 ],
 "metadata": {
  "kernelspec": {
   "display_name": "Python 3 (ipykernel)",
   "language": "python",
   "name": "python3"
  },
  "language_info": {
   "codemirror_mode": {
    "name": "ipython",
    "version": 3
   },
   "file_extension": ".py",
   "mimetype": "text/x-python",
   "name": "python",
   "nbconvert_exporter": "python",
   "pygments_lexer": "ipython3",
   "version": "3.9.10"
  }
 },
 "nbformat": 4,
 "nbformat_minor": 5
}
