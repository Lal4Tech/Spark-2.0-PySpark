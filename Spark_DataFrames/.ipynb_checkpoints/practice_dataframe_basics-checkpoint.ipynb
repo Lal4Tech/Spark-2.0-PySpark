{
 "cells": [
  {
   "cell_type": "code",
   "execution_count": 1,
   "id": "dfedd4bc-efe4-4fcd-8b5b-775cb3a94c15",
   "metadata": {},
   "outputs": [],
   "source": [
    "from pyspark.sql import SparkSession"
   ]
  },
  {
   "cell_type": "code",
   "execution_count": 2,
   "id": "7c32f53e-7e17-49dd-b920-813d08639380",
   "metadata": {},
   "outputs": [],
   "source": [
    "spark = SparkSession.builder.appName(name=\"Basics\").getOrCreate()"
   ]
  },
  {
   "cell_type": "code",
   "execution_count": 3,
   "id": "103844ea-89a0-44eb-a905-e711f7a1624e",
   "metadata": {},
   "outputs": [
    {
     "name": "stdout",
     "output_type": "stream",
     "text": [
      "/home/jovyan\n"
     ]
    }
   ],
   "source": [
    "!pwd"
   ]
  },
  {
   "cell_type": "code",
   "execution_count": 6,
   "id": "159f55e5-a307-4181-9486-bba6c3999619",
   "metadata": {},
   "outputs": [
    {
     "name": "stdout",
     "output_type": "stream",
     "text": [
      "'Data Set Generator (remove me the future!)'   Spark_DataFrames\n",
      " people.json\t\t\t\t       Spark_for_Machine_Learning\n",
      " practice_dataframe_basic_operations.ipynb    'Spark Streaming'\n",
      " Spark_DataFrame_Project_Exercise\n"
     ]
    }
   ],
   "source": [
    "!ls"
   ]
  },
  {
   "cell_type": "code",
   "execution_count": 7,
   "id": "94711c01-e45e-457a-9a2f-f875c41ae90e",
   "metadata": {},
   "outputs": [],
   "source": [
    "df = spark.read.json('/home/jovyan/people.json')"
   ]
  },
  {
   "cell_type": "code",
   "execution_count": null,
   "id": "90a9c7fe-38e5-4a99-9c51-9b799612a026",
   "metadata": {},
   "outputs": [],
   "source": []
  }
 ],
 "metadata": {
  "kernelspec": {
   "display_name": "Python 3 (ipykernel)",
   "language": "python",
   "name": "python3"
  },
  "language_info": {
   "codemirror_mode": {
    "name": "ipython",
    "version": 3
   },
   "file_extension": ".py",
   "mimetype": "text/x-python",
   "name": "python",
   "nbconvert_exporter": "python",
   "pygments_lexer": "ipython3",
   "version": "3.9.10"
  }
 },
 "nbformat": 4,
 "nbformat_minor": 5
}
